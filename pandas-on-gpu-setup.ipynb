{
 "cells": [
  {
   "cell_type": "code",
   "execution_count": 1,
   "id": "2b44fd18",
   "metadata": {
    "execution": {
     "iopub.execute_input": "2024-04-06T16:12:29.577691Z",
     "iopub.status.busy": "2024-04-06T16:12:29.577021Z",
     "iopub.status.idle": "2024-04-06T16:12:30.569369Z",
     "shell.execute_reply": "2024-04-06T16:12:30.568275Z"
    },
    "papermill": {
     "duration": 0.998482,
     "end_time": "2024-04-06T16:12:30.571644",
     "exception": false,
     "start_time": "2024-04-06T16:12:29.573162",
     "status": "completed"
    },
    "tags": []
   },
   "outputs": [
    {
     "name": "stdout",
     "output_type": "stream",
     "text": [
      "Sat Apr  6 16:12:30 2024       \r\n",
      "+---------------------------------------------------------------------------------------+\r\n",
      "| NVIDIA-SMI 535.129.03             Driver Version: 535.129.03   CUDA Version: 12.2     |\r\n",
      "|-----------------------------------------+----------------------+----------------------+\r\n",
      "| GPU  Name                 Persistence-M | Bus-Id        Disp.A | Volatile Uncorr. ECC |\r\n",
      "| Fan  Temp   Perf          Pwr:Usage/Cap |         Memory-Usage | GPU-Util  Compute M. |\r\n",
      "|                                         |                      |               MIG M. |\r\n",
      "|=========================================+======================+======================|\r\n",
      "|   0  Tesla P100-PCIE-16GB           Off | 00000000:00:04.0 Off |                    0 |\r\n",
      "| N/A   36C    P0              26W / 250W |      0MiB / 16384MiB |      0%      Default |\r\n",
      "|                                         |                      |                  N/A |\r\n",
      "+-----------------------------------------+----------------------+----------------------+\r\n",
      "                                                                                         \r\n",
      "+---------------------------------------------------------------------------------------+\r\n",
      "| Processes:                                                                            |\r\n",
      "|  GPU   GI   CI        PID   Type   Process name                            GPU Memory |\r\n",
      "|        ID   ID                                                             Usage      |\r\n",
      "|=======================================================================================|\r\n",
      "|  No running processes found                                                           |\r\n",
      "+---------------------------------------------------------------------------------------+\r\n"
     ]
    }
   ],
   "source": [
    "!nvidia-smi #check status of GPU"
   ]
  },
  {
   "cell_type": "code",
   "execution_count": 2,
   "id": "0076dbc0",
   "metadata": {
    "execution": {
     "iopub.execute_input": "2024-04-06T16:12:30.578316Z",
     "iopub.status.busy": "2024-04-06T16:12:30.577803Z",
     "iopub.status.idle": "2024-04-06T16:16:52.098328Z",
     "shell.execute_reply": "2024-04-06T16:16:52.097195Z"
    },
    "papermill": {
     "duration": 261.526362,
     "end_time": "2024-04-06T16:16:52.100741",
     "exception": false,
     "start_time": "2024-04-06T16:12:30.574379",
     "status": "completed"
    },
    "tags": []
   },
   "outputs": [
    {
     "name": "stdout",
     "output_type": "stream",
     "text": [
      "\u001b[33mWARNING: Skipping cudf as it is not installed.\u001b[0m\u001b[33m\r\n",
      "\u001b[0m\u001b[33mWARNING: Skipping cuml as it is not installed.\u001b[0m\u001b[33m\r\n",
      "\u001b[0m\u001b[33mWARNING: Skipping dask as it is not installed.\u001b[0m\u001b[33m\r\n",
      "\u001b[0m\u001b[33mWARNING: Skipping dask-cudf as it is not installed.\u001b[0m\u001b[33m\r\n",
      "\u001b[0m\u001b[33mWARNING: Skipping cugraph as it is not installed.\u001b[0m\u001b[33m\r\n",
      "\u001b[0m\u001b[33mWARNING: Skipping cupy-cuda12x as it is not installed.\u001b[0m\u001b[33m\r\n",
      "\u001b[0m\u001b[31mERROR: pip's dependency resolver does not currently take into account all the packages that are installed. This behaviour is the source of the following dependency conflicts.\r\n",
      "tpot 0.12.1 requires xgboost>=1.1.0, which is not installed.\r\n",
      "keras-nlp 0.8.2 requires keras-core, which is not installed.\r\n",
      "tensorflow-decision-forests 1.8.1 requires wurlitzer, which is not installed.\r\n",
      "apache-beam 2.46.0 requires dill<0.3.2,>=0.3.1.1, but you have dill 0.3.8 which is incompatible.\r\n",
      "apache-beam 2.46.0 requires protobuf<4,>3.12.2, but you have protobuf 4.25.3 which is incompatible.\r\n",
      "apache-beam 2.46.0 requires pyarrow<10.0.0,>=3.0.0, but you have pyarrow 14.0.2 which is incompatible.\r\n",
      "beatrix-jupyterlab 2023.128.151533 requires jupyterlab~=3.6.0, but you have jupyterlab 4.1.5 which is incompatible.\r\n",
      "featuretools 1.30.0 requires numpy>=1.25.0, but you have numpy 1.24.4 which is incompatible.\r\n",
      "featuretools 1.30.0 requires pandas>=2.0.0, but you have pandas 1.5.3 which is incompatible.\r\n",
      "google-cloud-aiplatform 0.6.0a1 requires google-api-core[grpc]<2.0.0dev,>=1.22.2, but you have google-api-core 2.11.1 which is incompatible.\r\n",
      "google-cloud-automl 1.0.1 requires google-api-core[grpc]<2.0.0dev,>=1.14.0, but you have google-api-core 2.11.1 which is incompatible.\r\n",
      "google-cloud-bigquery 2.34.4 requires protobuf<4.0.0dev,>=3.12.0, but you have protobuf 4.25.3 which is incompatible.\r\n",
      "google-cloud-bigtable 1.7.3 requires protobuf<4.0.0dev, but you have protobuf 4.25.3 which is incompatible.\r\n",
      "google-cloud-pubsub 2.19.0 requires grpcio<2.0dev,>=1.51.3, but you have grpcio 1.51.1 which is incompatible.\r\n",
      "google-cloud-vision 2.8.0 requires protobuf<4.0.0dev,>=3.19.0, but you have protobuf 4.25.3 which is incompatible.\r\n",
      "kfp 2.5.0 requires google-cloud-storage<3,>=2.2.1, but you have google-cloud-storage 1.44.0 which is incompatible.\r\n",
      "kfp 2.5.0 requires protobuf<4,>=3.13.0, but you have protobuf 4.25.3 which is incompatible.\r\n",
      "kfp-pipeline-spec 0.2.2 requires protobuf<4,>=3.13.0, but you have protobuf 4.25.3 which is incompatible.\r\n",
      "libpysal 4.9.2 requires packaging>=22, but you have packaging 21.3 which is incompatible.\r\n",
      "libpysal 4.9.2 requires shapely>=2.0.1, but you have shapely 1.8.5.post1 which is incompatible.\r\n",
      "mizani 0.11.0 requires pandas>=2.1.0, but you have pandas 1.5.3 which is incompatible.\r\n",
      "momepy 0.7.0 requires shapely>=2, but you have shapely 1.8.5.post1 which is incompatible.\r\n",
      "osmnx 1.9.1 requires shapely>=2.0, but you have shapely 1.8.5.post1 which is incompatible.\r\n",
      "plotnine 0.13.2 requires pandas<3.0.0,>=2.1.0, but you have pandas 1.5.3 which is incompatible.\r\n",
      "pyldavis 3.4.1 requires pandas>=2.0.0, but you have pandas 1.5.3 which is incompatible.\r\n",
      "spopt 0.6.0 requires shapely>=2.0.1, but you have shapely 1.8.5.post1 which is incompatible.\r\n",
      "tensorboard 2.15.1 requires protobuf<4.24,>=3.19.6, but you have protobuf 4.25.3 which is incompatible.\r\n",
      "tensorflow 2.15.0 requires keras<2.16,>=2.15.0, but you have keras 3.0.5 which is incompatible.\r\n",
      "tensorflow-metadata 0.14.0 requires protobuf<4,>=3.7, but you have protobuf 4.25.3 which is incompatible.\r\n",
      "tensorflow-transform 0.14.0 requires protobuf<4,>=3.7, but you have protobuf 4.25.3 which is incompatible.\r\n",
      "tensorstore 0.1.56 requires ml-dtypes>=0.3.1, but you have ml-dtypes 0.2.0 which is incompatible.\r\n",
      "woodwork 0.29.0 requires numpy>=1.25.0, but you have numpy 1.24.4 which is incompatible.\r\n",
      "xarray 2024.2.0 requires packaging>=22, but you have packaging 21.3 which is incompatible.\u001b[0m\u001b[31m\r\n",
      "\u001b[0m"
     ]
    }
   ],
   "source": [
    "#Removing default packages and install cudf\n",
    "!find /opt/conda \\( -name \"cudf*\" -o -name \"libcudf*\" -o -name \"cuml*\" -o -name \"libcuml*\" \\\n",
    "                   -o -name \"cugraph*\" -o -name \"libcugraph*\" -o -name \"raft*\" -o -name \"libraft*\" \\\n",
    "                   -o -name \"pylibraft*\" -o -name \"libkvikio*\" -o -name \"*dask*\" -o -name \"rmm*\"\\\n",
    "                   -o -name \"librmm*\" \\) -exec rm -rf {} \\; 2>/dev/null\n",
    "\n",
    "# pip uninstall, just incase there are packages lying around\n",
    "!pip uninstall -q cudf cuml dask xgboost dask-cudf cuml cugraph cupy cupy-cuda12x --y\n",
    "\n",
    "\n",
    "!pip install \\\n",
    "    -q \\\n",
    "    --extra-index-url=https://pypi.nvidia.com \\\n",
    "    cudf-cu12==24.2.* \\\n",
    "    dask-cudf-cu12==24.2.* \\\n",
    "    cuml-cu12==24.2.* \\\n",
    "    cugraph-cu12==24.2.*"
   ]
  },
  {
   "cell_type": "code",
   "execution_count": 3,
   "id": "85ce3f1e",
   "metadata": {
    "execution": {
     "iopub.execute_input": "2024-04-06T16:16:52.109028Z",
     "iopub.status.busy": "2024-04-06T16:16:52.108287Z",
     "iopub.status.idle": "2024-04-06T16:16:56.406290Z",
     "shell.execute_reply": "2024-04-06T16:16:56.405205Z"
    },
    "papermill": {
     "duration": 4.304787,
     "end_time": "2024-04-06T16:16:56.408827",
     "exception": false,
     "start_time": "2024-04-06T16:16:52.104040",
     "status": "completed"
    },
    "tags": []
   },
   "outputs": [
    {
     "name": "stderr",
     "output_type": "stream",
     "text": [
      "/opt/conda/lib/python3.10/site-packages/cudf/utils/gpu_utils.py:89: UserWarning: A GPU with NVIDIA Volta™ (Compute Capability 7.0) or newer architecture is required.\n",
      "Detected GPU 0: Tesla P100-PCIE-16GB\u0000\u0000\u0000\u0000\u0000\u0000\u0000\u0000\u0000\u0000\u0000\u0000\u0000\u0000\u0000\u0000\u0000\u0000\u0000\u0000\u0000\u0000\u0000\u0000\u0000\u0000\u0000\u0000\u0000\u0000\u0000\u0000\u0000\u0000\u0000\u0000\u0000\u0000\u0000\u0000\u0000\u0000\u0000\u0000                                                                                                                                                                                                \n",
      "Detected Compute Capability: 6.0\n",
      "  warnings.warn(\n"
     ]
    }
   ],
   "source": [
    "import cudf  # this should work without any errors\n",
    "\n",
    "%load_ext cudf.pandas"
   ]
  },
  {
   "cell_type": "code",
   "execution_count": 4,
   "id": "0c17f3af",
   "metadata": {
    "_cell_guid": "b1076dfc-b9ad-4769-8c92-a6c4dae69d19",
    "_uuid": "8f2839f25d086af736a60e9eeb907d3b93b6e0e5",
    "execution": {
     "iopub.execute_input": "2024-04-06T16:16:56.472787Z",
     "iopub.status.busy": "2024-04-06T16:16:56.472156Z",
     "iopub.status.idle": "2024-04-06T16:16:56.643156Z",
     "shell.execute_reply": "2024-04-06T16:16:56.642183Z"
    },
    "papermill": {
     "duration": 0.233426,
     "end_time": "2024-04-06T16:16:56.645537",
     "exception": false,
     "start_time": "2024-04-06T16:16:56.412111",
     "status": "completed"
    },
    "tags": []
   },
   "outputs": [],
   "source": [
    "# This Python 3 environment comes with many helpful analytics libraries installed\n",
    "# It is defined by the kaggle/python Docker image: https://github.com/kaggle/docker-python\n",
    "# For example, here's several helpful packages to load\n",
    "\n",
    "import numpy as np # linear algebra\n",
    "import pandas as pd # data processing, CSV file I/O (e.g. pd.read_csv)\n",
    "\n",
    "# Input data files are available in the read-only \"../input/\" directory\n",
    "# For example, running this (by clicking run or pressing Shift+Enter) will list all files under the input directory\n",
    "\n",
    "import os\n",
    "for dirname, _, filenames in os.walk('/kaggle/input'):\n",
    "    for filename in filenames:\n",
    "        print(os.path.join(dirname, filename))\n",
    "\n",
    "# You can write up to 20GB to the current directory (/kaggle/working/) that gets preserved as output when you create a version using \"Save & Run All\" \n",
    "# You can also write temporary files to /kaggle/temp/, but they won't be saved outside of the current session"
   ]
  },
  {
   "cell_type": "code",
   "execution_count": null,
   "id": "6a438545",
   "metadata": {
    "papermill": {
     "duration": 0.021599,
     "end_time": "2024-04-06T16:16:56.670683",
     "exception": false,
     "start_time": "2024-04-06T16:16:56.649084",
     "status": "completed"
    },
    "tags": []
   },
   "outputs": [],
   "source": []
  }
 ],
 "metadata": {
  "kaggle": {
   "accelerator": "gpu",
   "dataSources": [],
   "dockerImageVersionId": 30674,
   "isGpuEnabled": true,
   "isInternetEnabled": true,
   "language": "python",
   "sourceType": "notebook"
  },
  "kernelspec": {
   "display_name": "Python 3",
   "language": "python",
   "name": "python3"
  },
  "language_info": {
   "codemirror_mode": {
    "name": "ipython",
    "version": 3
   },
   "file_extension": ".py",
   "mimetype": "text/x-python",
   "name": "python",
   "nbconvert_exporter": "python",
   "pygments_lexer": "ipython3",
   "version": "3.10.13"
  },
  "papermill": {
   "default_parameters": {},
   "duration": 270.645551,
   "end_time": "2024-04-06T16:16:57.396928",
   "environment_variables": {},
   "exception": null,
   "input_path": "__notebook__.ipynb",
   "output_path": "__notebook__.ipynb",
   "parameters": {},
   "start_time": "2024-04-06T16:12:26.751377",
   "version": "2.5.0"
  }
 },
 "nbformat": 4,
 "nbformat_minor": 5
}
